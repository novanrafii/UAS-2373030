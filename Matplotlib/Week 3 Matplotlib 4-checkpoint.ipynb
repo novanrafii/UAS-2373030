{
 "cells": [
  {
   "cell_type": "code",
   "execution_count": null,
   "id": "8d0d4d86-4f4b-4fd3-8750-cbaa6c6ad70b",
   "metadata": {},
   "outputs": [],
   "source": [
    "%matplotlib inline"
   ]
  },
  {
   "cell_type": "code",
   "execution_count": null,
   "id": "58b3f2c0-4e08-4098-9285-8ad88de85151",
   "metadata": {},
   "outputs": [],
   "source": [
    "import matplotlib\n",
    "import matplotlib.pyplot as plt\n",
    "import numpy as np\n",
    "\n",
    "print(matplotlib.__version__)\n",
    "print(np.__version__)"
   ]
  },
  {
   "cell_type": "code",
   "execution_count": null,
   "id": "c8ae46fa-c060-4356-abc0-823240e3d043",
   "metadata": {},
   "outputs": [],
   "source": [
    "mu, sigma = 100, 15 # nilai mean dan nilai standard deviation\n",
    "\n",
    "x = mu + sigma * np.random.randn(10000) # normal distribution\n",
    "x"
   ]
  },
  {
   "cell_type": "code",
   "execution_count": null,
   "id": "9552e2af-e193-433f-b19f-80a3cdb4ac23",
   "metadata": {},
   "outputs": [],
   "source": [
    "x.shape"
   ]
  },
  {
   "cell_type": "code",
   "execution_count": null,
   "id": "fe17458c-b657-4e5c-a98e-0b33631df0e0",
   "metadata": {},
   "outputs": [],
   "source": [
    "plt.hist(x, \n",
    "         bins=50, \n",
    "         facecolor='g', \n",
    "         alpha=0.50)\n",
    "\n",
    "plt.xlabel('Sumbu X')\n",
    "plt.ylabel('Sumbu Y')\n",
    "plt.title('Contoh Histogram')\n",
    "\n",
    "plt.text(45, 500, '$\\mu=100,\\ \\sigma=15$')\n",
    "plt.grid()\n",
    "\n",
    "plt.show()"
   ]
  },
  {
   "cell_type": "code",
   "execution_count": null,
   "id": "8607d68b-0854-4f87-810a-05bcd8453c3e",
   "metadata": {},
   "outputs": [],
   "source": [
    "fig, ax = plt.subplots()\n",
    "\n",
    "ax.hist(x, \n",
    "        bins=50, \n",
    "        facecolor='b', \n",
    "        alpha=0.25)\n",
    "\n",
    "ax.set_xlabel('Sumbu X')\n",
    "ax.set_ylabel('Sumbu Y')\n",
    "ax.set_title('Contoh Histogram')\n",
    "\n",
    "ax.text(45, 500, '$\\mu=100,\\ \\sigma=15$')\n",
    "ax.grid()\n",
    "\n",
    "plt.show()"
   ]
  }
 ],
 "metadata": {
  "kernelspec": {
   "display_name": "Python 3 (ipykernel)",
   "language": "python",
   "name": "python3"
  },
  "language_info": {
   "codemirror_mode": {
    "name": "ipython",
    "version": 3
   },
   "file_extension": ".py",
   "mimetype": "text/x-python",
   "name": "python",
   "nbconvert_exporter": "python",
   "pygments_lexer": "ipython3",
   "version": "3.12.7"
  }
 },
 "nbformat": 4,
 "nbformat_minor": 5
}
