{
 "cells": [
  {
   "cell_type": "code",
   "execution_count": null,
   "id": "096716e1-e12b-415e-888d-df097308e08a",
   "metadata": {},
   "outputs": [],
   "source": [
    "%matplotlib inline"
   ]
  },
  {
   "cell_type": "code",
   "execution_count": null,
   "id": "434ef28e-c1bb-429e-9116-6421210556e9",
   "metadata": {},
   "outputs": [],
   "source": [
    "import matplotlib \n",
    "import matplotlib.pyplot as plt\n",
    "import pandas as pd\n",
    "\n",
    "print(matplotlib.__version__)\n",
    "print(pd.__version__)"
   ]
  },
  {
   "cell_type": "code",
   "execution_count": null,
   "id": "76d92e81-da40-449e-971d-597dbe490c14",
   "metadata": {},
   "outputs": [],
   "source": [
    "df = pd.read_csv('./dataset/2020.csv')\n",
    "df.head()"
   ]
  },
  {
   "cell_type": "code",
   "execution_count": null,
   "id": "7648a7d6-7748-4c7b-abed-27f69cdb566d",
   "metadata": {},
   "outputs": [],
   "source": [
    "df.rename(columns={\n",
    "    'Country name': 'Country',\n",
    "    'Perceptions of corruption': 'Corruption',\n",
    "    'Freedom to make life choices': 'Freedom'\n",
    "},\n",
    "          inplace=True)\n",
    "df.columns"
   ]
  },
  {
   "cell_type": "code",
   "execution_count": null,
   "id": "fb4db726-52d4-4692-8d47-808c5d409dc5",
   "metadata": {},
   "outputs": [],
   "source": [
    "df[:5].plot(x='Country',\n",
    "            y=['Corruption', 'Freedom', 'Generosity', 'Social support'],\n",
    "            kind='bar')\n",
    "\n",
    "\n",
    "plt.title('Contoh Bar Plot')\n",
    "plt.ylabel('Nilai')\n",
    "plt.show()"
   ]
  },
  {
   "cell_type": "code",
   "execution_count": null,
   "id": "c378556b-5e75-4a76-9219-542e106d5b70",
   "metadata": {},
   "outputs": [],
   "source": [
    "df[:5].plot(x='Country',\n",
    "            y=['Corruption', 'Freedom', 'Generosity', 'Social support'],\n",
    "            kind='line')\n",
    "\n",
    "plt.title('Contoh Line Plot')\n",
    "plt.ylabel('Nilai')\n",
    "plt.show()"
   ]
  },
  {
   "cell_type": "code",
   "execution_count": null,
   "id": "f7005d3d-318f-4dfd-81e7-30e817e82c9c",
   "metadata": {},
   "outputs": [],
   "source": [
    "df.plot(y=['Corruption', 'Freedom', 'Generosity', 'Social support'],\n",
    "        kind='box')\n",
    "\n",
    "plt.title('Contoh Box Plot')\n",
    "plt.xlabel('Parameter')\n",
    "plt.ylabel('Nilai')\n",
    "plt.show()"
   ]
  },
  {
   "cell_type": "code",
   "execution_count": null,
   "id": "33f91f77-f467-4bc2-af6f-126160e7f78b",
   "metadata": {},
   "outputs": [],
   "source": [
    "df.plot(x='Corruption', y='Freedom', kind='scatter')\n",
    "\n",
    "plt.xlim((0,1))\n",
    "plt.ylim((0,1))\n",
    "\n",
    "plt.title('Contoh Scatter Plot')\n",
    "plt.show()"
   ]
  },
  {
   "cell_type": "code",
   "execution_count": null,
   "id": "200a3091-203d-4ac4-a170-2a29695f1b48",
   "metadata": {},
   "outputs": [],
   "source": [
    "df.plot(x='Country', y='Corruption', kind='hist', bins=10)\n",
    "\n",
    "plt.title('Contoh Histogram')\n",
    "plt.xlabel('Nilai')\n",
    "plt.show()"
   ]
  },
  {
   "cell_type": "code",
   "execution_count": null,
   "id": "728de89b-743e-432d-8d4e-e34f8e759638",
   "metadata": {},
   "outputs": [],
   "source": [
    "df.plot(x='Country',\n",
    "        y=['Corruption', 'Freedom', 'Generosity', 'Social support'],\n",
    "        kind='hist',\n",
    "        subplots=True,\n",
    "        layout=(2, 2))\n",
    "\n",
    "plt.suptitle('Contoh Subplots')\n",
    "plt.tight_layout()\n",
    "plt.show()"
   ]
  }
 ],
 "metadata": {
  "kernelspec": {
   "display_name": "Python 3 (ipykernel)",
   "language": "python",
   "name": "python3"
  },
  "language_info": {
   "codemirror_mode": {
    "name": "ipython",
    "version": 3
   },
   "file_extension": ".py",
   "mimetype": "text/x-python",
   "name": "python",
   "nbconvert_exporter": "python",
   "pygments_lexer": "ipython3",
   "version": "3.12.7"
  }
 },
 "nbformat": 4,
 "nbformat_minor": 5
}
