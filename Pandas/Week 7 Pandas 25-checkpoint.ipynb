{
 "cells": [
  {
   "cell_type": "code",
   "execution_count": null,
   "id": "30e22492-30c1-4cc7-ae40-83db26a378bf",
   "metadata": {},
   "outputs": [],
   "source": [
    "import pandas as pd\n",
    "\n",
    "print(pd.__version__)"
   ]
  },
  {
   "cell_type": "code",
   "execution_count": null,
   "id": "1c0601d2-5b8a-43bf-9bfc-60c8cdf0aaef",
   "metadata": {},
   "outputs": [],
   "source": [
    "df = pd.read_csv('./data/titanicfull.csv')\n",
    "df"
   ]
  },
  {
   "cell_type": "code",
   "execution_count": null,
   "id": "459804f7-9a5e-48eb-83ab-9e499198a69b",
   "metadata": {},
   "outputs": [],
   "source": [
    "pd.set_option('display.max_rows', 5)\n",
    "pd.set_option('display.max_columns', 6)\n",
    "pd.set_option('display.max_colwidth', 20)\n",
    "\n",
    "df"
   ]
  },
  {
   "cell_type": "code",
   "execution_count": null,
   "id": "b6799276-35dc-471a-b54c-fa3c1a25fb7a",
   "metadata": {},
   "outputs": [],
   "source": [
    "pd.reset_option('^display.', silent=True)\n",
    "\n",
    "df"
   ]
  },
  {
   "cell_type": "code",
   "execution_count": null,
   "id": "54d82500-e514-4e40-b7cc-9b863658fb47",
   "metadata": {},
   "outputs": [],
   "source": [
    "pd.describe_option()"
   ]
  }
 ],
 "metadata": {
  "kernelspec": {
   "display_name": "Python 3 (ipykernel)",
   "language": "python",
   "name": "python3"
  },
  "language_info": {
   "codemirror_mode": {
    "name": "ipython",
    "version": 3
   },
   "file_extension": ".py",
   "mimetype": "text/x-python",
   "name": "python",
   "nbconvert_exporter": "python",
   "pygments_lexer": "ipython3",
   "version": "3.12.7"
  }
 },
 "nbformat": 4,
 "nbformat_minor": 5
}
