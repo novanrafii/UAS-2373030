{
 "cells": [
  {
   "cell_type": "code",
   "execution_count": null,
   "id": "c359f280-fb80-4e56-813c-048f9f72850e",
   "metadata": {},
   "outputs": [],
   "source": [
    "import pandas as pd\n",
    "\n",
    "print(pd.__version__)"
   ]
  },
  {
   "cell_type": "code",
   "execution_count": null,
   "id": "58195531-3e34-4898-aede-8c1b13176cd9",
   "metadata": {},
   "outputs": [],
   "source": [
    "df = pd.read_csv('./data/titanicfull.csv')\n",
    "df.head()"
   ]
  },
  {
   "cell_type": "code",
   "execution_count": null,
   "id": "388ca718-3a7d-4b75-aba8-25b12299e768",
   "metadata": {},
   "outputs": [],
   "source": [
    "df[(df['sex']=='female') & (df['age']>=60) & (df['embarked']=='S') & (df['survived']==1)]"
   ]
  },
  {
   "cell_type": "code",
   "execution_count": null,
   "id": "3233e1f3-6ee3-4249-9016-64acd0bed648",
   "metadata": {},
   "outputs": [],
   "source": [
    "df[\n",
    "    (df['sex']=='female') & \n",
    "    (df['age']>=60) & \n",
    "    (df['embarked']=='S') & \n",
    "    (df['survived']==1)\n",
    "]"
   ]
  },
  {
   "cell_type": "code",
   "execution_count": null,
   "id": "5b34abeb-6e5c-4630-8591-5a2ff1fa52df",
   "metadata": {},
   "outputs": [],
   "source": [
    "kr1 = df['sex']=='female'\n",
    "kr2 = df['age']>=60\n",
    "kr3 = df['embarked']=='S'\n",
    "kr4 = df['survived']==1\n",
    "\n",
    "df[kr1 & kr2 & kr3 & kr4]"
   ]
  }
 ],
 "metadata": {
  "kernelspec": {
   "display_name": "Python 3 (ipykernel)",
   "language": "python",
   "name": "python3"
  },
  "language_info": {
   "codemirror_mode": {
    "name": "ipython",
    "version": 3
   },
   "file_extension": ".py",
   "mimetype": "text/x-python",
   "name": "python",
   "nbconvert_exporter": "python",
   "pygments_lexer": "ipython3",
   "version": "3.12.7"
  }
 },
 "nbformat": 4,
 "nbformat_minor": 5
}
