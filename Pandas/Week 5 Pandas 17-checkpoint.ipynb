{
 "cells": [
  {
   "cell_type": "code",
   "execution_count": null,
   "id": "64d3bf19-6b6c-4f0c-86bf-1c2e2c51b883",
   "metadata": {},
   "outputs": [],
   "source": []
  }
 ],
 "metadata": {
  "kernelspec": {
   "display_name": "Python 3 (ipykernel)",
   "language": "python",
   "name": "python3"
  },
  "language_info": {
   "name": ""
  }
 },
 "nbformat": 4,
 "nbformat_minor": 5
}
