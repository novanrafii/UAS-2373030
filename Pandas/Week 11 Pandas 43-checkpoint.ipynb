{
 "cells": [
  {
   "cell_type": "code",
   "execution_count": null,
   "id": "2d9ae517-1be7-4767-842c-3763d9088e9b",
   "metadata": {},
   "outputs": [],
   "source": []
  }
 ],
 "metadata": {
  "kernelspec": {
   "display_name": "Python 3 (ipykernel)",
   "language": "python",
   "name": "python3"
  },
  "language_info": {
   "name": ""
  }
 },
 "nbformat": 4,
 "nbformat_minor": 5
}
